{
 "cells": [
  {
   "cell_type": "markdown",
   "id": "3e436da1-1eec-4a0c-9bb8-b5db10f933e0",
   "metadata": {},
   "source": [
    "# Charlie Doubet & Matthew Riedl\n",
    "## Scraped Data and CSV File Imports\n",
    "## Cleaned CSV files"
   ]
  },
  {
   "cell_type": "markdown",
   "id": "fc6a0b51-b359-4623-aaca-789843c84df4",
   "metadata": {},
   "source": [
    "# Unemployment CSV File"
   ]
  },
  {
   "cell_type": "code",
   "execution_count": 3,
   "id": "1599d79a-63e1-47aa-94c9-471a538968f7",
   "metadata": {},
   "outputs": [],
   "source": [
    "import pandas as pd"
   ]
  },
  {
   "cell_type": "code",
   "execution_count": 4,
   "id": "d317903b-412b-4080-96ca-2d3bd47390b7",
   "metadata": {},
   "outputs": [
    {
     "ename": "FileNotFoundError",
     "evalue": "[Errno 2] No such file or directory: 'unemployment_per_country.csv'",
     "output_type": "error",
     "traceback": [
      "\u001b[1;31m---------------------------------------------------------------------------\u001b[0m",
      "\u001b[1;31mFileNotFoundError\u001b[0m                         Traceback (most recent call last)",
      "Cell \u001b[1;32mIn[4], line 1\u001b[0m\n\u001b[1;32m----> 1\u001b[0m unemployment_rates \u001b[38;5;241m=\u001b[39m pd\u001b[38;5;241m.\u001b[39mread_csv(\u001b[38;5;124m\"\u001b[39m\u001b[38;5;124munemployment_per_country.csv\u001b[39m\u001b[38;5;124m\"\u001b[39m, sep\u001b[38;5;241m=\u001b[39m\u001b[38;5;124m'\u001b[39m\u001b[38;5;124m,\u001b[39m\u001b[38;5;124m'\u001b[39m, encoding\u001b[38;5;241m=\u001b[39m\u001b[38;5;124m'\u001b[39m\u001b[38;5;124mutf-8\u001b[39m\u001b[38;5;124m'\u001b[39m)\n",
      "File \u001b[1;32m~\\anaconda3\\Lib\\site-packages\\pandas\\io\\parsers\\readers.py:1026\u001b[0m, in \u001b[0;36mread_csv\u001b[1;34m(filepath_or_buffer, sep, delimiter, header, names, index_col, usecols, dtype, engine, converters, true_values, false_values, skipinitialspace, skiprows, skipfooter, nrows, na_values, keep_default_na, na_filter, verbose, skip_blank_lines, parse_dates, infer_datetime_format, keep_date_col, date_parser, date_format, dayfirst, cache_dates, iterator, chunksize, compression, thousands, decimal, lineterminator, quotechar, quoting, doublequote, escapechar, comment, encoding, encoding_errors, dialect, on_bad_lines, delim_whitespace, low_memory, memory_map, float_precision, storage_options, dtype_backend)\u001b[0m\n\u001b[0;32m   1013\u001b[0m kwds_defaults \u001b[38;5;241m=\u001b[39m _refine_defaults_read(\n\u001b[0;32m   1014\u001b[0m     dialect,\n\u001b[0;32m   1015\u001b[0m     delimiter,\n\u001b[1;32m   (...)\u001b[0m\n\u001b[0;32m   1022\u001b[0m     dtype_backend\u001b[38;5;241m=\u001b[39mdtype_backend,\n\u001b[0;32m   1023\u001b[0m )\n\u001b[0;32m   1024\u001b[0m kwds\u001b[38;5;241m.\u001b[39mupdate(kwds_defaults)\n\u001b[1;32m-> 1026\u001b[0m \u001b[38;5;28;01mreturn\u001b[39;00m _read(filepath_or_buffer, kwds)\n",
      "File \u001b[1;32m~\\anaconda3\\Lib\\site-packages\\pandas\\io\\parsers\\readers.py:620\u001b[0m, in \u001b[0;36m_read\u001b[1;34m(filepath_or_buffer, kwds)\u001b[0m\n\u001b[0;32m    617\u001b[0m _validate_names(kwds\u001b[38;5;241m.\u001b[39mget(\u001b[38;5;124m\"\u001b[39m\u001b[38;5;124mnames\u001b[39m\u001b[38;5;124m\"\u001b[39m, \u001b[38;5;28;01mNone\u001b[39;00m))\n\u001b[0;32m    619\u001b[0m \u001b[38;5;66;03m# Create the parser.\u001b[39;00m\n\u001b[1;32m--> 620\u001b[0m parser \u001b[38;5;241m=\u001b[39m TextFileReader(filepath_or_buffer, \u001b[38;5;241m*\u001b[39m\u001b[38;5;241m*\u001b[39mkwds)\n\u001b[0;32m    622\u001b[0m \u001b[38;5;28;01mif\u001b[39;00m chunksize \u001b[38;5;129;01mor\u001b[39;00m iterator:\n\u001b[0;32m    623\u001b[0m     \u001b[38;5;28;01mreturn\u001b[39;00m parser\n",
      "File \u001b[1;32m~\\anaconda3\\Lib\\site-packages\\pandas\\io\\parsers\\readers.py:1620\u001b[0m, in \u001b[0;36mTextFileReader.__init__\u001b[1;34m(self, f, engine, **kwds)\u001b[0m\n\u001b[0;32m   1617\u001b[0m     \u001b[38;5;28mself\u001b[39m\u001b[38;5;241m.\u001b[39moptions[\u001b[38;5;124m\"\u001b[39m\u001b[38;5;124mhas_index_names\u001b[39m\u001b[38;5;124m\"\u001b[39m] \u001b[38;5;241m=\u001b[39m kwds[\u001b[38;5;124m\"\u001b[39m\u001b[38;5;124mhas_index_names\u001b[39m\u001b[38;5;124m\"\u001b[39m]\n\u001b[0;32m   1619\u001b[0m \u001b[38;5;28mself\u001b[39m\u001b[38;5;241m.\u001b[39mhandles: IOHandles \u001b[38;5;241m|\u001b[39m \u001b[38;5;28;01mNone\u001b[39;00m \u001b[38;5;241m=\u001b[39m \u001b[38;5;28;01mNone\u001b[39;00m\n\u001b[1;32m-> 1620\u001b[0m \u001b[38;5;28mself\u001b[39m\u001b[38;5;241m.\u001b[39m_engine \u001b[38;5;241m=\u001b[39m \u001b[38;5;28mself\u001b[39m\u001b[38;5;241m.\u001b[39m_make_engine(f, \u001b[38;5;28mself\u001b[39m\u001b[38;5;241m.\u001b[39mengine)\n",
      "File \u001b[1;32m~\\anaconda3\\Lib\\site-packages\\pandas\\io\\parsers\\readers.py:1880\u001b[0m, in \u001b[0;36mTextFileReader._make_engine\u001b[1;34m(self, f, engine)\u001b[0m\n\u001b[0;32m   1878\u001b[0m     \u001b[38;5;28;01mif\u001b[39;00m \u001b[38;5;124m\"\u001b[39m\u001b[38;5;124mb\u001b[39m\u001b[38;5;124m\"\u001b[39m \u001b[38;5;129;01mnot\u001b[39;00m \u001b[38;5;129;01min\u001b[39;00m mode:\n\u001b[0;32m   1879\u001b[0m         mode \u001b[38;5;241m+\u001b[39m\u001b[38;5;241m=\u001b[39m \u001b[38;5;124m\"\u001b[39m\u001b[38;5;124mb\u001b[39m\u001b[38;5;124m\"\u001b[39m\n\u001b[1;32m-> 1880\u001b[0m \u001b[38;5;28mself\u001b[39m\u001b[38;5;241m.\u001b[39mhandles \u001b[38;5;241m=\u001b[39m get_handle(\n\u001b[0;32m   1881\u001b[0m     f,\n\u001b[0;32m   1882\u001b[0m     mode,\n\u001b[0;32m   1883\u001b[0m     encoding\u001b[38;5;241m=\u001b[39m\u001b[38;5;28mself\u001b[39m\u001b[38;5;241m.\u001b[39moptions\u001b[38;5;241m.\u001b[39mget(\u001b[38;5;124m\"\u001b[39m\u001b[38;5;124mencoding\u001b[39m\u001b[38;5;124m\"\u001b[39m, \u001b[38;5;28;01mNone\u001b[39;00m),\n\u001b[0;32m   1884\u001b[0m     compression\u001b[38;5;241m=\u001b[39m\u001b[38;5;28mself\u001b[39m\u001b[38;5;241m.\u001b[39moptions\u001b[38;5;241m.\u001b[39mget(\u001b[38;5;124m\"\u001b[39m\u001b[38;5;124mcompression\u001b[39m\u001b[38;5;124m\"\u001b[39m, \u001b[38;5;28;01mNone\u001b[39;00m),\n\u001b[0;32m   1885\u001b[0m     memory_map\u001b[38;5;241m=\u001b[39m\u001b[38;5;28mself\u001b[39m\u001b[38;5;241m.\u001b[39moptions\u001b[38;5;241m.\u001b[39mget(\u001b[38;5;124m\"\u001b[39m\u001b[38;5;124mmemory_map\u001b[39m\u001b[38;5;124m\"\u001b[39m, \u001b[38;5;28;01mFalse\u001b[39;00m),\n\u001b[0;32m   1886\u001b[0m     is_text\u001b[38;5;241m=\u001b[39mis_text,\n\u001b[0;32m   1887\u001b[0m     errors\u001b[38;5;241m=\u001b[39m\u001b[38;5;28mself\u001b[39m\u001b[38;5;241m.\u001b[39moptions\u001b[38;5;241m.\u001b[39mget(\u001b[38;5;124m\"\u001b[39m\u001b[38;5;124mencoding_errors\u001b[39m\u001b[38;5;124m\"\u001b[39m, \u001b[38;5;124m\"\u001b[39m\u001b[38;5;124mstrict\u001b[39m\u001b[38;5;124m\"\u001b[39m),\n\u001b[0;32m   1888\u001b[0m     storage_options\u001b[38;5;241m=\u001b[39m\u001b[38;5;28mself\u001b[39m\u001b[38;5;241m.\u001b[39moptions\u001b[38;5;241m.\u001b[39mget(\u001b[38;5;124m\"\u001b[39m\u001b[38;5;124mstorage_options\u001b[39m\u001b[38;5;124m\"\u001b[39m, \u001b[38;5;28;01mNone\u001b[39;00m),\n\u001b[0;32m   1889\u001b[0m )\n\u001b[0;32m   1890\u001b[0m \u001b[38;5;28;01massert\u001b[39;00m \u001b[38;5;28mself\u001b[39m\u001b[38;5;241m.\u001b[39mhandles \u001b[38;5;129;01mis\u001b[39;00m \u001b[38;5;129;01mnot\u001b[39;00m \u001b[38;5;28;01mNone\u001b[39;00m\n\u001b[0;32m   1891\u001b[0m f \u001b[38;5;241m=\u001b[39m \u001b[38;5;28mself\u001b[39m\u001b[38;5;241m.\u001b[39mhandles\u001b[38;5;241m.\u001b[39mhandle\n",
      "File \u001b[1;32m~\\anaconda3\\Lib\\site-packages\\pandas\\io\\common.py:882\u001b[0m, in \u001b[0;36mget_handle\u001b[1;34m(path_or_buf, mode, encoding, compression, memory_map, is_text, errors, storage_options)\u001b[0m\n\u001b[0;32m    873\u001b[0m         handle \u001b[38;5;241m=\u001b[39m \u001b[38;5;28mopen\u001b[39m(\n\u001b[0;32m    874\u001b[0m             handle,\n\u001b[0;32m    875\u001b[0m             ioargs\u001b[38;5;241m.\u001b[39mmode,\n\u001b[1;32m   (...)\u001b[0m\n\u001b[0;32m    878\u001b[0m             newline\u001b[38;5;241m=\u001b[39m\u001b[38;5;124m\"\u001b[39m\u001b[38;5;124m\"\u001b[39m,\n\u001b[0;32m    879\u001b[0m         )\n\u001b[0;32m    880\u001b[0m     \u001b[38;5;28;01melse\u001b[39;00m:\n\u001b[0;32m    881\u001b[0m         \u001b[38;5;66;03m# Binary mode\u001b[39;00m\n\u001b[1;32m--> 882\u001b[0m         handle \u001b[38;5;241m=\u001b[39m \u001b[38;5;28mopen\u001b[39m(handle, ioargs\u001b[38;5;241m.\u001b[39mmode)\n\u001b[0;32m    883\u001b[0m     handles\u001b[38;5;241m.\u001b[39mappend(handle)\n\u001b[0;32m    885\u001b[0m \u001b[38;5;66;03m# Convert BytesIO or file objects passed with an encoding\u001b[39;00m\n",
      "\u001b[1;31mFileNotFoundError\u001b[0m: [Errno 2] No such file or directory: 'unemployment_per_country.csv'"
     ]
    }
   ],
   "source": [
    "unemployment_rates = pd.read_csv(\"unemployment_per_country.csv\", sep=',', encoding='utf-8')"
   ]
  },
  {
   "cell_type": "code",
   "execution_count": null,
   "id": "0b97f9bf-514f-4b25-b392-5d241f6ad79f",
   "metadata": {},
   "outputs": [],
   "source": [
    "selected_columns = ['Country Name', '2019', '2020', '2021', '2022', '2023']\n",
    "unemployment_rates_df = unemployment_rates[selected_columns]"
   ]
  },
  {
   "cell_type": "code",
   "execution_count": null,
   "id": "2875b918-6507-4b4e-b6f1-2a388f014aee",
   "metadata": {},
   "outputs": [],
   "source": [
    "display(unemployment_rates_df)"
   ]
  },
  {
   "cell_type": "code",
   "execution_count": null,
   "id": "26333c92-52ae-4df1-8e98-ae74a493bd05",
   "metadata": {},
   "outputs": [],
   "source": [
    "unemployment_rates_df.to_csv('cleaned_unemployment_rates.csv', index=False)"
   ]
  },
  {
   "cell_type": "markdown",
   "id": "4c915e16-f909-4488-947e-dc6d02aa29b9",
   "metadata": {},
   "source": [
    "# Billionaire CSV File"
   ]
  },
  {
   "cell_type": "code",
   "execution_count": null,
   "id": "ac687189-b928-460e-ace9-8c769e2413aa",
   "metadata": {},
   "outputs": [],
   "source": [
    "billionaires = pd.read_csv(\"all_billionaires_1997_2024.csv\", sep=',', encoding='utf-8', low_memory=False) "
   ]
  },
  {
   "cell_type": "code",
   "execution_count": null,
   "id": "04f4d795-d348-4d70-81d3-38a7f6cd5bfd",
   "metadata": {},
   "outputs": [],
   "source": [
    "billionaires = billionaires[billionaires['year'].between(2019, 2023)][['year', 'rank', 'full_name', 'country_of_residence', 'business_industries', 'net_worth']]\n",
    "billionaires['business_industries'] = billionaires['business_industries'].str.strip(\"[]\").str.replace(\"'\", \"\")"
   ]
  },
  {
   "cell_type": "code",
   "execution_count": null,
   "id": "26e03427-26ab-48c7-bfe5-100c796f035e",
   "metadata": {},
   "outputs": [],
   "source": [
    "display(billionaires)"
   ]
  },
  {
   "cell_type": "code",
   "execution_count": null,
   "id": "64df12fb-300a-4447-bec6-cc8b33a0c2e7",
   "metadata": {},
   "outputs": [],
   "source": [
    "billionaires.to_csv('cleaned_billionaires.csv', index=False)"
   ]
  },
  {
   "cell_type": "markdown",
   "id": "8f770374-cdfd-4e93-9d56-836c0516978e",
   "metadata": {},
   "source": [
    "# GDP Scraped Website"
   ]
  },
  {
   "cell_type": "code",
   "execution_count": null,
   "id": "86feae43-8a20-490d-8fbe-0bae825987b8",
   "metadata": {},
   "outputs": [],
   "source": [
    "import pandas as pd\n",
    "from selenium import webdriver\n",
    "from selenium.webdriver.common.by import By \n",
    "from selenium.webdriver.chrome.service import Service \n",
    "from webdriver_manager.chrome import ChromeDriverManager\n",
    "from selenium.webdriver.common.keys import Keys\n",
    "import time"
   ]
  },
  {
   "cell_type": "code",
   "execution_count": null,
   "id": "ca22b070-3883-4f05-ad1f-cba1271ff315",
   "metadata": {},
   "outputs": [],
   "source": [
    "# Initialize the Selenium web driver\n",
    "browser = webdriver.Chrome(service=Service(ChromeDriverManager().install()))\n",
    "\n",
    "# Navigate to the web page using the URL\n",
    "url = \"https://www.macrotrends.net/global-metrics/countries/ranking/gdp-growth-rate\"\n",
    "browser.get(url)\n",
    "browser.maximize_window()"
   ]
  },
  {
   "cell_type": "code",
   "execution_count": null,
   "id": "8411ed5d-8342-42b7-95be-f451a1472af3",
   "metadata": {},
   "outputs": [],
   "source": [
    "# Lists to store the data\n",
    "countries = []\n",
    "growth_2023 = []\n",
    "growth_2022 = []\n",
    "growth_2021 = []\n",
    "growth_2020 = []\n",
    "growth_2019 = []"
   ]
  },
  {
   "cell_type": "code",
   "execution_count": null,
   "id": "654f9632-7e15-479c-96a7-db048dfc7cd5",
   "metadata": {},
   "outputs": [],
   "source": [
    "try:\n",
    "    # Find all country rows\n",
    "    country_rows = browser.find_elements(By.TAG_NAME, \"tr\")[1:]  # Skip header row\n",
    "    print(f\"Found {len(country_rows)} countries.\")\n",
    "    \n",
    "    for row in country_rows:\n",
    "        try:\n",
    "            # Extract data from each column\n",
    "            columns = row.find_elements(By.TAG_NAME, \"td\")\n",
    "            \n",
    "            if len(columns) >= 6:  # Ensure we have all needed columns\n",
    "                countries.append(columns[0].text.strip())\n",
    "                growth_2023.append(columns[1].text.strip())\n",
    "                growth_2022.append(columns[2].text.strip())\n",
    "                growth_2021.append(columns[3].text.strip())\n",
    "                growth_2020.append(columns[4].text.strip())\n",
    "                growth_2019.append(columns[5].text.strip())\n",
    "        except Exception as e:\n",
    "            print(f\"Error processing row: {e}\")\n",
    "            continue\n",
    "\n",
    "finally:\n",
    "    # Close the browser\n",
    "    browser.quit()"
   ]
  },
  {
   "cell_type": "code",
   "execution_count": null,
   "id": "37562ec1-fbd8-4585-9162-9a746fbf24e3",
   "metadata": {},
   "outputs": [],
   "source": [
    "# Create a DataFrame\n",
    "gdp_df = pd.DataFrame({\n",
    "    'Country': countries,\n",
    "    '2023': growth_2023,\n",
    "    '2022': growth_2022,\n",
    "    '2021': growth_2021,\n",
    "    '2020': growth_2020,\n",
    "    '2019': growth_2019\n",
    "})"
   ]
  },
  {
   "cell_type": "code",
   "execution_count": null,
   "id": "de9bf66a-aefc-4348-8a40-4f54e4cb50fa",
   "metadata": {},
   "outputs": [],
   "source": [
    "# Save to CSV\n",
    "gdp_df.to_csv('cleaned_gdp_growth_rates.csv', index=False)\n",
    "\n",
    "display(gdp_df.head())"
   ]
  },
  {
   "cell_type": "markdown",
   "id": "d3416a6c-eb91-4b39-8200-6e2b79b44a62",
   "metadata": {},
   "source": [
    "# Merge Billionaires and GDP"
   ]
  },
  {
   "cell_type": "code",
   "execution_count": null,
   "id": "6fe8cdb8-2971-4e22-b57c-2f321a7c3afe",
   "metadata": {},
   "outputs": [],
   "source": [
    "merged_data = pd.merge(billionaires, gdp_df, left_on='country_of_residence', right_on='Country', how='left')"
   ]
  },
  {
   "cell_type": "code",
   "execution_count": null,
   "id": "40a607f2-29b8-42de-895c-e23202250e8b",
   "metadata": {},
   "outputs": [],
   "source": [
    "# Rename the GDP columns\n",
    "merged_data = merged_data.rename(columns={\n",
    "    '2023': '2023_gdp_change',\n",
    "    '2022': '2022_gdp_change',\n",
    "    '2021': '2021_gdp_change',\n",
    "    '2020': '2020_gdp_change',\n",
    "    '2019': '2019_gdp_change'\n",
    "})\n",
    "\n",
    "# Drop the original 'Country' column\n",
    "merged_data = merged_data.drop(columns=['Country'])"
   ]
  },
  {
   "cell_type": "code",
   "execution_count": null,
   "id": "b0112d8c-5bc0-4321-9835-be8e89c01da4",
   "metadata": {},
   "outputs": [],
   "source": [
    "display(merged_data)"
   ]
  },
  {
   "cell_type": "code",
   "execution_count": null,
   "id": "c91df563-2b36-4a1e-978d-e3e5f499a4d8",
   "metadata": {},
   "outputs": [],
   "source": [
    "merged_data.to_csv('Billionaires_GDP.csv', index=False)"
   ]
  },
  {
   "cell_type": "markdown",
   "id": "07930d6c-3aa1-4693-a352-206f72882e0d",
   "metadata": {},
   "source": [
    "# Merged Billionaire and Unemployment Rates "
   ]
  },
  {
   "cell_type": "code",
   "execution_count": null,
   "id": "51333990-d7c4-4f43-b28d-d01ab80ed029",
   "metadata": {},
   "outputs": [],
   "source": [
    "merged_df = billionaires.merge(unemployment_rates_df, left_on='country_of_residence', right_on='Country Name', how='left')"
   ]
  },
  {
   "cell_type": "code",
   "execution_count": null,
   "id": "f2b10847-559d-4c58-af00-546ca847d715",
   "metadata": {},
   "outputs": [],
   "source": [
    "merged_df = merged_df.rename(columns={\n",
    "    '2023': '2023_unemployment_rate',\n",
    "    '2022': '2022_unemployment_rate',\n",
    "    '2021': '2021_unemployment_rate',\n",
    "    '2020': '2020_unemployment_rate',\n",
    "    '2019': '2019_unemployment_rate'\n",
    "})\n",
    "\n",
    "# Drop the original 'Country' column\n",
    "merged_df = merged_df.drop(columns=['Country Name'])"
   ]
  },
  {
   "cell_type": "code",
   "execution_count": null,
   "id": "b4c5d172-accf-4e8b-8e19-37cb0686de3d",
   "metadata": {},
   "outputs": [],
   "source": [
    "display(merged_df)"
   ]
  },
  {
   "cell_type": "code",
   "execution_count": null,
   "id": "131f0d5d-14b4-4fc9-93e7-2fa28e19bddc",
   "metadata": {},
   "outputs": [],
   "source": [
    "merged_df.to_csv('Billionaires_Unemployment.csv', index=False)"
   ]
  }
 ],
 "metadata": {
  "kernelspec": {
   "display_name": "Python 3 (ipykernel)",
   "language": "python",
   "name": "python3"
  },
  "language_info": {
   "codemirror_mode": {
    "name": "ipython",
    "version": 3
   },
   "file_extension": ".py",
   "mimetype": "text/x-python",
   "name": "python",
   "nbconvert_exporter": "python",
   "pygments_lexer": "ipython3",
   "version": "3.12.4"
  }
 },
 "nbformat": 4,
 "nbformat_minor": 5
}
