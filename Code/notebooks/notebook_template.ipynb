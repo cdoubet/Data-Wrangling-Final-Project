{
 "cells": [
  {
   "cell_type": "markdown",
   "id": "cc5e92ee-a16b-4a6e-829b-be8dcbb76f49",
   "metadata": {},
   "source": [
    "# Project Name"
   ]
  },
  {
   "cell_type": "markdown",
   "id": "3d9ce028-fbe0-4f30-832a-b15c8e164bab",
   "metadata": {},
   "source": [
    "## Charlie Doubet\n",
    "## Last Modified (Date): \n",
    "\n",
    "### Description:"
   ]
  },
  {
   "cell_type": "markdown",
   "id": "f93070de-5401-496b-b3d7-de06ea485c0a",
   "metadata": {},
   "source": [
    "<br>"
   ]
  },
  {
   "cell_type": "markdown",
   "id": "f4bd13da-610e-4e0c-8db7-4e529084a93b",
   "metadata": {},
   "source": [
    "Import libraries:"
   ]
  },
  {
   "cell_type": "code",
   "execution_count": 1,
   "id": "1baa13ba-cea1-4597-a478-7b0999d4da0a",
   "metadata": {},
   "outputs": [],
   "source": [
    "import pandas as pd"
   ]
  },
  {
   "cell_type": "markdown",
   "id": "321fce4e-eb54-4d89-8b74-eda0529632b8",
   "metadata": {},
   "source": [
    "<br>"
   ]
  },
  {
   "cell_type": "markdown",
   "id": "9cdc35e0-5038-4a8f-b6ef-9d9c8bccb025",
   "metadata": {},
   "source": [
    "Load Data:"
   ]
  },
  {
   "cell_type": "code",
   "execution_count": 2,
   "id": "7ce2caa9-fbac-4053-a514-17c76248851d",
   "metadata": {},
   "outputs": [],
   "source": [
    "# code to read csv file"
   ]
  }
 ],
 "metadata": {
  "kernelspec": {
   "display_name": "Python 3 (ipykernel)",
   "language": "python",
   "name": "python3"
  },
  "language_info": {
   "codemirror_mode": {
    "name": "ipython",
    "version": 3
   },
   "file_extension": ".py",
   "mimetype": "text/x-python",
   "name": "python",
   "nbconvert_exporter": "python",
   "pygments_lexer": "ipython3",
   "version": "3.12.7"
  }
 },
 "nbformat": 4,
 "nbformat_minor": 5
}
